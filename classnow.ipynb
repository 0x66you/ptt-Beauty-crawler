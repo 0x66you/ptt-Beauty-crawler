{
 "cells": [
  {
   "cell_type": "markdown",
   "metadata": {},
   "source": [
    "hw1. 抓 ithome ai 版面的前三頁轉成json檔案"
   ]
  },
  {
   "cell_type": "code",
   "execution_count": 96,
   "metadata": {},
   "outputs": [
    {
     "name": "stdout",
     "output_type": "stream",
     "text": [
      "page1完成\n",
      "page2完成\n",
      "page3完成\n"
     ]
    }
   ],
   "source": [
    "from selenium import webdriver\n",
    "from bs4 import BeautifulSoup \n",
    "from selenium.webdriver.common.by import By\n",
    "import pandas as pd\n",
    "import numpy as np\n",
    "def page2json(num):\n",
    "    global driver\n",
    "    for i in range(num):\n",
    "        soup = BeautifulSoup(driver.page_source,'lxml')\n",
    "        title = soup.select(\"div.view-content > div > div > p.title\")\n",
    "        time = soup.select(\"p.post-at\")\n",
    "        # print(title)\n",
    "        # print(time)\n",
    "        # print(len(title)) #15\n",
    "        # print(len(time)) #15\n",
    "        index = [i for i in range(15)]\n",
    "        columns = [\"title\",\"link\",\"time\"]\n",
    "        data = []\n",
    "        for t,d in zip(title,time):\n",
    "            saveTitle = t.text\n",
    "            saveLink = \"https://www.ithome.com.tw\"+t.a.get(\"href\")\n",
    "            saveTime = d.text\n",
    "            temp = [saveTitle,saveLink,saveTime]\n",
    "            data.append(temp) \n",
    "        df = pd.DataFrame(data=data,index=index,columns=columns)\n",
    "        df.to_json(f\"page{i}.json\")\n",
    "        driver.find_element(By.CSS_SELECTOR,\"li.next.last a\").click()\n",
    "        print(f\"page{i+1}完成\")\n",
    "ITHOME_WEBSITE = \"https://www.ithome.com.tw/\"\n",
    "try:\n",
    "    driver = webdriver.Chrome()\n",
    "    driver.implicitly_wait(5)\n",
    "    driver.get(ITHOME_WEBSITE)\n",
    "    driver.find_element(By.CSS_SELECTOR,\"#navbar > div > div > div > nav > ul:nth-child(1) > li:nth-child(4) > a\").click()\n",
    "    page2json(3)\n",
    "    \n",
    "except Exception as e:\n",
    "    print(e)\n",
    "finally:\n",
    "    driver.quit()"
   ]
  },
  {
   "cell_type": "code",
   "execution_count": 64,
   "metadata": {},
   "outputs": [
    {
     "name": "stdout",
     "output_type": "stream",
     "text": [
      "08\n",
      "19\n",
      "01\n",
      "27\n",
      "26\n",
      "38\n",
      "08\n"
     ]
    }
   ],
   "source": [
    "import requests \n",
    "res = requests.get(\"https://www.taiwanlottery.com.tw/lotto/superlotto638/history.aspx\")\n",
    "if res.status_code ==200:\n",
    "    soup = BeautifulSoup(res.text,'lxml')\n",
    "    __VIEWSTATE = soup.find(\"input\",id=\"__VIEWSTATE\").get(\"value\")\n",
    "    __VIEWSTATEGENERATOR = soup.find(\"input\",id=\"__VIEWSTATEGENERATOR\").get(\"value\")\n",
    "    __EVENTVALIDATION = soup.find(\"input\",id=\"__EVENTVALIDATION\").get(\"value\")\n",
    "\n",
    "payload = {\n",
    "    \"__VIEWSTATE\":__VIEWSTATE,\n",
    "    \"__VIEWSTATEGENERATOR\": __VIEWSTATEGENERATOR,\n",
    "    \"__EVENTVALIDATION\": __EVENTVALIDATION,\n",
    "    \"forma\": \"請選擇遊戲\",\n",
    "    \"SuperLotto638Control_history1$txtNO\":\"\", \n",
    "    \"SuperLotto638Control_history1$chk\": \"radYM\",\n",
    "    \"SuperLotto638Control_history1$dropYear\": \"109\",\n",
    "    \"SuperLotto638Control_history1$dropMonth\": \"6\",\n",
    "    \"SuperLotto638Control_history1$btnSubmit\": \"查詢\",\n",
    "}\n",
    "res = requests.post(\"https://www.taiwanlottery.com.tw/lotto/superlotto638/history.aspx\",data=payload)\n",
    "res.encoding = \"utf-8\"\n",
    "if res.status_code ==200:\n",
    "    numbers = [\n",
    "        \"SuperLotto638Control_history1_dlQuery_SNo1_0\",\n",
    "        \"SuperLotto638Control_history1_dlQuery_SNo2_0\",\n",
    "        \"SuperLotto638Control_history1_dlQuery_SNo3_0\",\n",
    "        \"SuperLotto638Control_history1_dlQuery_SNo4_0\",\n",
    "        \"SuperLotto638Control_history1_dlQuery_SNo5_0\",\n",
    "        \"SuperLotto638Control_history1_dlQuery_SNo6_0\",\n",
    "        \"SuperLotto638Control_history1_dlQuery_SNo7_0\",\n",
    "    ]\n",
    "    soup = BeautifulSoup(res.text,'lxml')\n",
    "    allnum = soup.find_all(\"span\",id= numbers)\n",
    "    for i in allnum:\n",
    "        print(i.text)\n",
    "    # with open (\"page.txt\",'w') as f:\n",
    "        # f.write(page)"
   ]
  },
  {
   "cell_type": "code",
   "execution_count": null,
   "metadata": {},
   "outputs": [],
   "source": []
  }
 ],
 "metadata": {
  "interpreter": {
   "hash": "16ec9f2a2818a505407c389015484c56ff7ce15747e30261c04d4bcb08401012"
  },
  "kernelspec": {
   "display_name": "Python 3.9.9 ('.venv': venv)",
   "language": "python",
   "name": "python3"
  },
  "language_info": {
   "codemirror_mode": {
    "name": "ipython",
    "version": 3
   },
   "file_extension": ".py",
   "mimetype": "text/x-python",
   "name": "python",
   "nbconvert_exporter": "python",
   "pygments_lexer": "ipython3",
   "version": "3.9.9"
  },
  "orig_nbformat": 4
 },
 "nbformat": 4,
 "nbformat_minor": 2
}
