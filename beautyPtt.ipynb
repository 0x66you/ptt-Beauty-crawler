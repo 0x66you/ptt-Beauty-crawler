{
 "cells": [
  {
   "cell_type": "code",
   "execution_count": 2,
   "metadata": {},
   "outputs": [
    {
     "name": "stdout",
     "output_type": "stream",
     "text": [
      "正妹 資料夾已經存在！\n",
      "[正妹] 姊姊的奶奶\n",
      "[正妹] 太妍 Taeyeon\n",
      "[正妹] 兇兇的\n",
      "[正妹] 好大 隻馬\n",
      "程式結束..\n"
     ]
    }
   ],
   "source": [
    "import requests\n",
    "from bs4 import BeautifulSoup\n",
    "import os\n",
    "\n",
    "ss = requests.session()\n",
    "headers = {\n",
    "    \"user-agent\": \"Mozilla/5.0 (Macintosh; Intel Mac OS X 10_15_7) AppleWebKit/537.36 (KHTML, like Gecko) Chrome/99.0.4844.51 Safari/537.36\"\n",
    "}\n",
    "payload = {\n",
    "    \"from\" : \"/bbs/Beauty/index.html\",\n",
    "    \"yes\" : \"yes\"\n",
    "}\n",
    "ss.post(\"https://www.ptt.cc/ask/over18?from=%2Fbbs%2FBeauty%2Findex.html\",data=payload,headers=headers)\n",
    "user_search = input(\"輸入查詢名稱(ptt表特版):\")\n",
    "user_num = eval(input(\"輸入數量:\"))\n",
    "PIC_TYPES = [\"jpeg\",'jpg','png','gif']\n",
    "url = \"https://www.ptt.cc/bbs/Beauty/index.html\"\n",
    "class NumberLimit(Exception): \n",
    "    '''Raised when user specified number equals zero'''\n",
    "    pass\n",
    "\n",
    "# 建立新的資料夾\n",
    "if not os.path.exists(user_search):\n",
    "        os.mkdir(user_search)\n",
    "else:\n",
    "    print(f\"{user_search} 資料夾已經存在！\")\n",
    "while True:\n",
    "    res = ss.get(url, headers=headers)\n",
    "    if res.status_code == requests.codes.OK:\n",
    "        soup = BeautifulSoup(res.text,'lxml')\n",
    "        titles = soup.select(\"div.title\")\n",
    "        for t in titles:\n",
    "            try:\n",
    "                if user_search in t.a.text:\n",
    "                    print(t.a.text)\n",
    "                    inlink = \"https://www.ptt.cc\"+t.a.get(\"href\")\n",
    "                    content = ss.get(inlink,headers=headers)\n",
    "                    if content.status_code == requests.codes.OK:\n",
    "                        content_soup = BeautifulSoup(content.text,'lxml')\n",
    "                        mainpart = content_soup.find(\"div\",id=\"main-content\")\n",
    "                        links = mainpart.find_all(\"a\")\n",
    "                        for l in links:\n",
    "                            extension = l.text.split(\".\")[-1]\n",
    "                            if extension in PIC_TYPES:\n",
    "                                img_url = l.text\n",
    "                                img_data = requests.get(img_url,headers=headers).content\n",
    "                                with open(f\"{user_search}/{user_num}.{extension}\",\"wb\") as f:\n",
    "                                    f.write(img_data)\n",
    "                                    user_num -=1\n",
    "                                if user_num ==0:\n",
    "                                    raise NumberLimit\n",
    "                        break\n",
    "                    else:\n",
    "                        print(\"網頁擷取失敗..\")\n",
    "            except NumberLimit:\n",
    "                print(\"程式結束..\")\n",
    "                break\n",
    "            except Exception as e: \n",
    "                pass\n",
    "        if user_num > 0:\n",
    "            nextPageUrl = \"https://www.ptt.cc\"+soup.find_all(\"a\",class_=\"btn wide\")[1].get(\"href\")\n",
    "            url = nextPageUrl\n",
    "        else:\n",
    "            break\n",
    "    else:\n",
    "        print(\"網頁擷取失敗..\")\n",
    "        break"
   ]
  }
 ],
 "metadata": {
  "interpreter": {
   "hash": "16ec9f2a2818a505407c389015484c56ff7ce15747e30261c04d4bcb08401012"
  },
  "kernelspec": {
   "display_name": "Python 3.9.9 ('.venv': venv)",
   "language": "python",
   "name": "python3"
  },
  "language_info": {
   "codemirror_mode": {
    "name": "ipython",
    "version": 3
   },
   "file_extension": ".py",
   "mimetype": "text/x-python",
   "name": "python",
   "nbconvert_exporter": "python",
   "pygments_lexer": "ipython3",
   "version": "3.9.9"
  },
  "orig_nbformat": 4
 },
 "nbformat": 4,
 "nbformat_minor": 2
}
